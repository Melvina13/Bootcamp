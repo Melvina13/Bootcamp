{
 "cells": [
  {
   "cell_type": "code",
   "execution_count": 0,
   "metadata": {
    "application/vnd.databricks.v1+cell": {
     "cellMetadata": {
      "byteLimit": 2048000,
      "rowLimit": 10000
     },
     "inputWidgets": {},
     "nuid": "33545b9f-fa95-40c2-ad20-6d52e3d8aca0",
     "showTitle": false,
     "tableResultSettingsMap": {},
     "title": ""
    }
   },
   "outputs": [
    {
     "output_type": "stream",
     "name": "stdout",
     "output_type": "stream",
     "text": [
      "+-------------------+----+----+----+----+----+----+----+----+----+----+----+----+----+----+----+----+----+----+----+----+----+----+----+-----+-----+-----+------+------+-----+-------+------+------+-------+-------+-------+-------+-------+------+------+------+-----+-----+-----+-----+----+----+----+----+----+----+----+----+----+----+----+----+----+----+----+----+----+----+----+\n|                _c0| _c1| _c2| _c3| _c4| _c5| _c6| _c7| _c8| _c9|_c10|_c11|_c12|_c13|_c14|_c15|_c16|_c17|_c18|_c19|_c20|_c21|_c22|_c23| _c24| _c25| _c26|  _c27|  _c28| _c29|   _c30|  _c31|  _c32|   _c33|   _c34|   _c35|   _c36|   _c37|  _c38|  _c39|  _c40| _c41| _c42| _c43| _c44|_c45|_c46|_c47|_c48|_c49|_c50|_c51|_c52|_c53|_c54|_c55|_c56|_c57|_c58|_c59|_c60|_c61|_c62|_c63|\n+-------------------+----+----+----+----+----+----+----+----+----+----+----+----+----+----+----+----+----+----+----+----+----+----+----+-----+-----+-----+------+------+-----+-------+------+------+-------+-------+-------+-------+-------+------+------+------+-----+-----+-----+-----+----+----+----+----+----+----+----+----+----+----+----+----+----+----+----+----+----+----+----+\n|            country|1960|1961|1962|1963|1964|1965|1966|1967|1968|1969|1970|1971|1972|1973|1974|1975|1976|1977|1978|1979|1980|1981|1982| 1983| 1984| 1985|  1986|  1987| 1988|   1989|  1990|  1991|   1992|   1993|   1994|   1995|   1996|  1997|  1998|  1999| 2000| 2001| 2002| 2003|2004|2005|2006|2007|2008|2009|2010|2011|2012|2013|2014|2015|2016|2017|2018|2019|2020|2021|2022|\n|              Aruba|   0|null|null|null|null|   0|null|null|null|null|   0|null|null|null|null|   0|   0|   0|   0|   0|   0|   0|   0|    0|    0|    0|     0|     0|    0|      0|     0|     0| 0.0285|   null|   null|   2.23|   3.78|  4.16|  6.38|  13.8| 16.8| 58.4| 67.3| 75.5| 105| 109| 114| 117| 123| 129| 131|null| 132| 135| 135| 135|null|null|null| 132| 132| 132|null|\n|        Afghanistan|   0|null|null|null|null|   0|null|null|null|null|   0|null|null|null|null|   0|   0|   0|   0|   0|   0|   0|   0|    0|    0|    0|     0|     0|    0|      0|     0|     0|      0|      0|      0|      0|      0|     0|     0|     0|    0|    0|0.119|0.883|2.55|4.92|9.91|  18|29.9|38.3|36.2|47.2|50.4|53.3|56.3|58.4|62.4|67.1|59.9|59.8|58.2|56.6|null|\n|             Angola|   0|null|null|null|null|   0|null|null|null|null|   0|null|null|null|null|   0|   0|   0|   0|   0|   0|   0|   0|    0|    0|    0|     0|     0|    0|      0|     0|     0|      0|0.00844| 0.0135| 0.0143| 0.0229|0.0474|0.0639| 0.151|0.157|0.443|0.799| 1.93|3.94|8.28|15.2|23.7|31.2|  36|40.2|49.8|50.8|50.8|51.8|49.4|44.6|44.1|42.5|45.8|43.8|44.4|67.4|\n|            Albania|   0|null|null|null|null|   0|null|null|null|null|   0|null|null|null|null|   0|   0|   0|   0|   0|   0|   0|   0|    0|    0|    0|     0|     0|    0|      0|     0|     0|      0|      0|      0|      0| 0.0703| 0.101| 0.173| 0.343|0.936| 12.5| 27.2| 35.6|41.1|50.5|63.6|  78|  63|84.1|92.4| 107| 121| 128| 116| 118| 117| 126|94.4|91.5|91.4|92.3|97.9|\n|            Andorra|   0|null|null|null|null|   0|null|null|null|null|   0|null|null|null|null|   0|   0|   0|   0|   0|   0|   0|   0|    0|    0|    0|     0|     0|    0|      0|     0|     0|   1.34|   1.32|   1.28|   4.49|   8.56|  13.3|  21.7|  31.4| 35.6| 43.4| 46.3| 70.2|75.9|80.9|  86|81.2|84.4|87.4|91.6|92.2|89.9|89.6|92.5|99.4| 105| 109| 110| 115| 103| 119| 142|\n|                UAE|null|null|null|null|null|null|null|null|null|null|null|null|null|null|null|null|null|null|null|null|null|null| 0.2|0.288|0.377|0.574| 0.762|  0.87|0.821|   1.39|  1.77|  2.14|   2.31|   3.17|   3.93|    5.3|   7.53|  11.3|  16.9|  26.9| 43.6| 55.3| 66.8| 77.9|92.2| 106| 113| 132| 134| 134| 129| 137| 159| 184| 190| 201| 221| 219| 220| 213| 198| 195| 212|\n|          Argentina|   0|null|null|null|null|   0|null|null|null|null|   0|null|null|null|null|   0|   0|   0|   0|   0|   0|   0|   0|    0|    0|    0|     0|     0|    0|0.00715|0.0368|0.0755|  0.139|  0.329|  0.699|   1.16|   1.88|  5.61|  7.37|  10.5| 17.5|   18| 17.3| 20.5|34.9|56.7|79.8| 101| 115| 129| 139| 146| 153| 159| 143| 143| 146| 141| 132| 126| 122| 130| 132|\n|            Armenia|   0|null|null|null|null|   0|null|null|null|null|   0|null|null|null|null|   0|   0|   0|   0|   0|   0|   0|   0|    0|    0|    0|     0|     0|    0|      0|     0|     0|      0|      0|      0|      0|0.00909| 0.153| 0.242| 0.255|0.552|0.814|  2.3| 3.71|6.63|10.4|41.6|62.5|48.3|73.9| 131| 110| 114| 115| 120| 120| 120| 122| 126| 128| 124| 129| 135|\n|     American Samoa|   0|null|null|null|null|   0|null|null|null|null|   0|null|null|null|null|   0|   0|   0|   0|   0|   0|   0|   0|    0|    0|    0|     0|  null| null|   null|     0|     0|    1.4|   1.76|   2.29|   2.34|   2.39|  2.52|  2.65|  3.13| 3.42|  3.7|  3.5| 3.62| 3.9|null|null|null|null|null|null|null|null|null|null|null|null|null|null|null|null|null|null|\n|Antigua and Barbuda|   0|null|null|null|null|   0|null|null|null|null|   0|null|null|null|null|   0|   0|   0|   0|   0|   0|   0|   0|    0|    0|    0|     0|     0|    0|   null|     0|  null|   null|   null|   null|   null|   1.86|  1.97|  2.07|  11.5| 29.3| 32.8| 49.5|   59|68.4| 108| 136| 137| 164| 160| 196| 203| 145| 129| 135| 196| 199| 202|null| 200| 199| 197|null|\n|          Australia|   0|null|null|null|null|   0|null|null|null|null|   0|null|null|null|null|   0|   0|   0|   0|   0|   0|   0|   0|    0|    0|    0|     0|0.0272|0.191|  0.563|  1.08|  1.69|   2.85|   3.91|   6.85|   12.5|   21.9|  24.9|  26.4|  33.6|   45| 57.8| 65.1| 72.8|82.7|91.3|96.5| 102| 104| 102| 102| 106| 107| 108| 107| 108| 110| 108| 111| 110| 105| 105| 107|\n|            Austria|   0|null|null|null|null|   0|null|null|null|null|   0|null|null|null|null|   0|   0|   0|   0|   0|   0|   0|   0|    0|    0|0.129| 0.252| 0.346|0.487|  0.666|  0.96|  1.49|    2.2|   2.79|   3.51|   4.83|   7.52|  14.6|  28.7|  53.2| 76.4| 81.4| 83.4| 89.6|97.8| 105| 112| 119| 130| 137| 146| 155| 161| 157| 152| 156| 127| 123| 124| 121| 120| 122| 123|\n|         Azerbaijan|   0|null|null|null|null|   0|null|null|null|null|   0|null|null|null|null|   0|   0|   0|   0|   0|   0|   0|   0|    0|    0|    0|     0|     0|    0|      0|     0|     0|      0|      0|0.00639| 0.0761|  0.214|   0.5| 0.808|  4.57| 5.13| 8.81| 9.49| 12.5|  17|25.9|37.9|50.9|72.8|85.1|98.5| 108| 107| 105| 108| 108| 102| 101| 102| 105| 101| 105| 107|\n|            Burundi|   0|null|null|null|null|   0|null|null|null|null|   0|null|null|null|null|   0|   0|   0|   0|   0|   0|   0|   0|    0|    0|    0|     0|     0|    0|      0|     0|     0|      0|0.00635|0.00677|0.00951|0.00946|0.0104|0.0103|0.0129|0.259|0.517|0.782|0.933|1.41|2.07|2.61| 3.4|5.81|10.6|18.4|20.2|22.9|  25|30.4|46.6|49.1|53.1|  55|  55|54.3|61.7|  58|\n|            Belgium|   0|null|null|null|null|   0|null|null|null|null|   0|null|null|null|null|   0|   0|   0|   0|   0|   0|   0|   0|    0|    0|    0|0.0384| 0.073|0.193|   0.31| 0.431| 0.515|  0.614|  0.675|   1.27|   2.33|   4.72|   9.6|  17.2|  31.2| 54.8| 74.7| 78.2| 82.7|87.3|91.3|  93| 101| 106| 109| 112| 114| 112| 111| 114| 114| 111|99.8| 100| 100|99.7| 101| 102|\n|              Benin|   0|null|null|null|null|   0|null|null|null|null|   0|null|null|null|null|   0|   0|   0|   0|   0|   0|   0|   0|    0|    0|    0|     0|     0|    0|      0|     0|     0|      0|      0|      0| 0.0174| 0.0436|0.0673|0.0955| 0.107|0.793| 1.73| 2.94| 3.08|5.82|7.32|12.6|23.7|40.7|54.9|74.9|79.8|  84|93.4|81.6|85.2|  79|75.7|79.2|84.2|88.1|  98| 109|\n|       Burkina Faso|   0|null|null|null|null|   0|null|null|null|null|   0|null|null|null|null|   0|   0|   0|   0|   0|   0|   0|   0|    0|    0|    0|     0|     0|    0|      0|     0|     0|      0|      0|      0|      0|0.00494|0.0138|0.0244|0.0437|0.212|0.622|0.879| 1.83|2.94|4.57| 7.1|12.6|19.9|24.4|35.4|46.3|58.3|63.7|68.8|77.2|79.9|90.5|94.8|97.2| 103| 112|null|\n|         Bangladesh|   0|null|null|null|null|   0|null|null|null|null|   0|null|null|null|null|   0|   0|   0|   0|   0|   0|   0|   0|    0|    0|    0|     0|     0|    0|      0|     0|     0|0.00022|0.00044|0.00095|0.00212|0.00334|0.0213|0.0603| 0.118|0.216|0.395|0.801|    1|   2|6.39|13.4|23.8|30.7|  35|45.8|56.2|63.9|75.7|81.3|83.2|85.1|93.3|98.8| 100| 105| 109| 105|\n|           Bulgaria|   0|null|null|null|null|   0|null|null|null|null|   0|null|null|null|null|   0|   0|   0|   0|   0|   0|   0|   0|    0|    0|    0|     0|     0|    0|      0|     0|     0|      0| 0.0116|  0.076|  0.247|  0.316| 0.841|  1.54|  4.29| 9.11| 19.3| 32.6| 44.2|60.1|79.9| 106| 128| 136| 137| 134| 139| 144| 141| 129| 126| 124| 119| 118| 115| 114| 115| 117|\n+-------------------+----+----+----+----+----+----+----+----+----+----+----+----+----+----+----+----+----+----+----+----+----+----+----+-----+-----+-----+------+------+-----+-------+------+------+-------+-------+-------+-------+-------+------+------+------+-----+-----+-----+-----+----+----+----+----+----+----+----+----+----+----+----+----+----+----+----+----+----+----+----+\nonly showing top 20 rows\n\n"
     ]
    }
   ],
   "source": [
    "df_spark = spark.read.table(\"default.cell_phones_per_100_people__1__1_csv\")\n",
    "df_spark.show()"
   ]
  },
  {
   "cell_type": "code",
   "execution_count": 0,
   "metadata": {
    "application/vnd.databricks.v1+cell": {
     "cellMetadata": {
      "byteLimit": 2048000,
      "rowLimit": 10000
     },
     "inputWidgets": {},
     "nuid": "374e1c35-05fc-47d6-9c0e-70c8115f1440",
     "showTitle": false,
     "tableResultSettingsMap": {},
     "title": ""
    }
   },
   "outputs": [
    {
     "output_type": "display_data",
     "data": {
      "text/html": [
       "<div>\n",
       "<style scoped>\n",
       "    .dataframe tbody tr th:only-of-type {\n",
       "        vertical-align: middle;\n",
       "    }\n",
       "\n",
       "    .dataframe tbody tr th {\n",
       "        vertical-align: top;\n",
       "    }\n",
       "\n",
       "    .dataframe thead th {\n",
       "        text-align: right;\n",
       "    }\n",
       "</style>\n",
       "<table border=\"1\" class=\"dataframe\">\n",
       "  <thead>\n",
       "    <tr style=\"text-align: right;\">\n",
       "      <th></th>\n",
       "      <th>_c0</th>\n",
       "      <th>_c1</th>\n",
       "      <th>_c2</th>\n",
       "      <th>_c3</th>\n",
       "      <th>_c4</th>\n",
       "      <th>_c5</th>\n",
       "      <th>_c6</th>\n",
       "      <th>_c7</th>\n",
       "      <th>_c8</th>\n",
       "      <th>_c9</th>\n",
       "      <th>...</th>\n",
       "      <th>_c54</th>\n",
       "      <th>_c55</th>\n",
       "      <th>_c56</th>\n",
       "      <th>_c57</th>\n",
       "      <th>_c58</th>\n",
       "      <th>_c59</th>\n",
       "      <th>_c60</th>\n",
       "      <th>_c61</th>\n",
       "      <th>_c62</th>\n",
       "      <th>_c63</th>\n",
       "    </tr>\n",
       "  </thead>\n",
       "  <tbody>\n",
       "    <tr>\n",
       "      <th>0</th>\n",
       "      <td>country</td>\n",
       "      <td>1960</td>\n",
       "      <td>1961</td>\n",
       "      <td>1962</td>\n",
       "      <td>1963</td>\n",
       "      <td>1964</td>\n",
       "      <td>1965</td>\n",
       "      <td>1966</td>\n",
       "      <td>1967</td>\n",
       "      <td>1968</td>\n",
       "      <td>...</td>\n",
       "      <td>2013</td>\n",
       "      <td>2014</td>\n",
       "      <td>2015</td>\n",
       "      <td>2016</td>\n",
       "      <td>2017</td>\n",
       "      <td>2018</td>\n",
       "      <td>2019</td>\n",
       "      <td>2020</td>\n",
       "      <td>2021</td>\n",
       "      <td>2022</td>\n",
       "    </tr>\n",
       "    <tr>\n",
       "      <th>1</th>\n",
       "      <td>Aruba</td>\n",
       "      <td>0</td>\n",
       "      <td>None</td>\n",
       "      <td>None</td>\n",
       "      <td>None</td>\n",
       "      <td>None</td>\n",
       "      <td>0</td>\n",
       "      <td>None</td>\n",
       "      <td>None</td>\n",
       "      <td>None</td>\n",
       "      <td>...</td>\n",
       "      <td>135</td>\n",
       "      <td>135</td>\n",
       "      <td>135</td>\n",
       "      <td>None</td>\n",
       "      <td>None</td>\n",
       "      <td>None</td>\n",
       "      <td>132</td>\n",
       "      <td>132</td>\n",
       "      <td>132</td>\n",
       "      <td>None</td>\n",
       "    </tr>\n",
       "    <tr>\n",
       "      <th>2</th>\n",
       "      <td>Afghanistan</td>\n",
       "      <td>0</td>\n",
       "      <td>None</td>\n",
       "      <td>None</td>\n",
       "      <td>None</td>\n",
       "      <td>None</td>\n",
       "      <td>0</td>\n",
       "      <td>None</td>\n",
       "      <td>None</td>\n",
       "      <td>None</td>\n",
       "      <td>...</td>\n",
       "      <td>53.3</td>\n",
       "      <td>56.3</td>\n",
       "      <td>58.4</td>\n",
       "      <td>62.4</td>\n",
       "      <td>67.1</td>\n",
       "      <td>59.9</td>\n",
       "      <td>59.8</td>\n",
       "      <td>58.2</td>\n",
       "      <td>56.6</td>\n",
       "      <td>None</td>\n",
       "    </tr>\n",
       "    <tr>\n",
       "      <th>3</th>\n",
       "      <td>Angola</td>\n",
       "      <td>0</td>\n",
       "      <td>None</td>\n",
       "      <td>None</td>\n",
       "      <td>None</td>\n",
       "      <td>None</td>\n",
       "      <td>0</td>\n",
       "      <td>None</td>\n",
       "      <td>None</td>\n",
       "      <td>None</td>\n",
       "      <td>...</td>\n",
       "      <td>50.8</td>\n",
       "      <td>51.8</td>\n",
       "      <td>49.4</td>\n",
       "      <td>44.6</td>\n",
       "      <td>44.1</td>\n",
       "      <td>42.5</td>\n",
       "      <td>45.8</td>\n",
       "      <td>43.8</td>\n",
       "      <td>44.4</td>\n",
       "      <td>67.4</td>\n",
       "    </tr>\n",
       "    <tr>\n",
       "      <th>4</th>\n",
       "      <td>Albania</td>\n",
       "      <td>0</td>\n",
       "      <td>None</td>\n",
       "      <td>None</td>\n",
       "      <td>None</td>\n",
       "      <td>None</td>\n",
       "      <td>0</td>\n",
       "      <td>None</td>\n",
       "      <td>None</td>\n",
       "      <td>None</td>\n",
       "      <td>...</td>\n",
       "      <td>128</td>\n",
       "      <td>116</td>\n",
       "      <td>118</td>\n",
       "      <td>117</td>\n",
       "      <td>126</td>\n",
       "      <td>94.4</td>\n",
       "      <td>91.5</td>\n",
       "      <td>91.4</td>\n",
       "      <td>92.3</td>\n",
       "      <td>97.9</td>\n",
       "    </tr>\n",
       "  </tbody>\n",
       "</table>\n",
       "<p>5 rows × 64 columns</p>\n",
       "</div>"
      ]
     },
     "metadata": {
      "application/vnd.databricks.v1+output": {
       "addedWidgets": {},
       "arguments": {},
       "data": "<div>\n<style scoped>\n    .dataframe tbody tr th:only-of-type {\n        vertical-align: middle;\n    }\n\n    .dataframe tbody tr th {\n        vertical-align: top;\n    }\n\n    .dataframe thead th {\n        text-align: right;\n    }\n</style>\n<table border=\"1\" class=\"dataframe\">\n  <thead>\n    <tr style=\"text-align: right;\">\n      <th></th>\n      <th>_c0</th>\n      <th>_c1</th>\n      <th>_c2</th>\n      <th>_c3</th>\n      <th>_c4</th>\n      <th>_c5</th>\n      <th>_c6</th>\n      <th>_c7</th>\n      <th>_c8</th>\n      <th>_c9</th>\n      <th>...</th>\n      <th>_c54</th>\n      <th>_c55</th>\n      <th>_c56</th>\n      <th>_c57</th>\n      <th>_c58</th>\n      <th>_c59</th>\n      <th>_c60</th>\n      <th>_c61</th>\n      <th>_c62</th>\n      <th>_c63</th>\n    </tr>\n  </thead>\n  <tbody>\n    <tr>\n      <th>0</th>\n      <td>country</td>\n      <td>1960</td>\n      <td>1961</td>\n      <td>1962</td>\n      <td>1963</td>\n      <td>1964</td>\n      <td>1965</td>\n      <td>1966</td>\n      <td>1967</td>\n      <td>1968</td>\n      <td>...</td>\n      <td>2013</td>\n      <td>2014</td>\n      <td>2015</td>\n      <td>2016</td>\n      <td>2017</td>\n      <td>2018</td>\n      <td>2019</td>\n      <td>2020</td>\n      <td>2021</td>\n      <td>2022</td>\n    </tr>\n    <tr>\n      <th>1</th>\n      <td>Aruba</td>\n      <td>0</td>\n      <td>None</td>\n      <td>None</td>\n      <td>None</td>\n      <td>None</td>\n      <td>0</td>\n      <td>None</td>\n      <td>None</td>\n      <td>None</td>\n      <td>...</td>\n      <td>135</td>\n      <td>135</td>\n      <td>135</td>\n      <td>None</td>\n      <td>None</td>\n      <td>None</td>\n      <td>132</td>\n      <td>132</td>\n      <td>132</td>\n      <td>None</td>\n    </tr>\n    <tr>\n      <th>2</th>\n      <td>Afghanistan</td>\n      <td>0</td>\n      <td>None</td>\n      <td>None</td>\n      <td>None</td>\n      <td>None</td>\n      <td>0</td>\n      <td>None</td>\n      <td>None</td>\n      <td>None</td>\n      <td>...</td>\n      <td>53.3</td>\n      <td>56.3</td>\n      <td>58.4</td>\n      <td>62.4</td>\n      <td>67.1</td>\n      <td>59.9</td>\n      <td>59.8</td>\n      <td>58.2</td>\n      <td>56.6</td>\n      <td>None</td>\n    </tr>\n    <tr>\n      <th>3</th>\n      <td>Angola</td>\n      <td>0</td>\n      <td>None</td>\n      <td>None</td>\n      <td>None</td>\n      <td>None</td>\n      <td>0</td>\n      <td>None</td>\n      <td>None</td>\n      <td>None</td>\n      <td>...</td>\n      <td>50.8</td>\n      <td>51.8</td>\n      <td>49.4</td>\n      <td>44.6</td>\n      <td>44.1</td>\n      <td>42.5</td>\n      <td>45.8</td>\n      <td>43.8</td>\n      <td>44.4</td>\n      <td>67.4</td>\n    </tr>\n    <tr>\n      <th>4</th>\n      <td>Albania</td>\n      <td>0</td>\n      <td>None</td>\n      <td>None</td>\n      <td>None</td>\n      <td>None</td>\n      <td>0</td>\n      <td>None</td>\n      <td>None</td>\n      <td>None</td>\n      <td>...</td>\n      <td>128</td>\n      <td>116</td>\n      <td>118</td>\n      <td>117</td>\n      <td>126</td>\n      <td>94.4</td>\n      <td>91.5</td>\n      <td>91.4</td>\n      <td>92.3</td>\n      <td>97.9</td>\n    </tr>\n  </tbody>\n</table>\n<p>5 rows × 64 columns</p>\n</div>",
       "datasetInfos": [],
       "metadata": {},
       "removedWidgets": [],
       "textData": null,
       "type": "htmlSandbox"
      }
     },
     "output_type": "display_data"
    }
   ],
   "source": [
    "df_pandas = df_spark.toPandas()\n",
    "df_pandas.head()"
   ]
  },
  {
   "cell_type": "code",
   "execution_count": 0,
   "metadata": {
    "application/vnd.databricks.v1+cell": {
     "cellMetadata": {
      "byteLimit": 2048000,
      "rowLimit": 10000
     },
     "inputWidgets": {},
     "nuid": "a41d2dfd-3cc2-4939-8354-6d62d68c4542",
     "showTitle": false,
     "tableResultSettingsMap": {},
     "title": ""
    }
   },
   "outputs": [
    {
     "output_type": "stream",
     "name": "stdout",
     "output_type": "stream",
     "text": [
      "+--------------------+\n|                 _c0|\n+--------------------+\n|PK\u0003\u0004\u0014\u0000\u0000\u0000\u0000\u0000\u0000\u0000\u0000\u0000�]N...|\n|<Relationships xm...|\n|                  <a|\n|\u0000\u0000\u0000xl/styles.xml<...|\n|<styleSheet xmlns...|\n|<worksheet xmlns=...|\n|<workbook xmlns=\"...|\n|    <sst xmlns=\"http|\n|<Relationships xm...|\n|<Properties xmlns...|\n|                 <cp|\n|  <Types xmlns=\"http|\n|\u0000\u0000\u0000\u0000\u0000\u0000\u0000\u0000\u0000\u0000\u0000\u0000\u0000\u0001!\u0000\u0000...|\n|\u001E\u0000xl/sharedString...|\n|         \u0000�\u0002\u0000\u0000�|\u001F\u0000\u0000\u0000|\n+--------------------+\n\n"
     ]
    }
   ],
   "source": [
    "df_spark = spark.read.table(\"default.pop_day8_xlsx\")\n",
    "df_spark.show()"
   ]
  },
  {
   "cell_type": "code",
   "execution_count": 0,
   "metadata": {
    "application/vnd.databricks.v1+cell": {
     "cellMetadata": {
      "byteLimit": 2048000,
      "rowLimit": 10000
     },
     "inputWidgets": {},
     "nuid": "44187e45-26a3-40b2-95ec-928dc2060a33",
     "showTitle": false,
     "tableResultSettingsMap": {},
     "title": ""
    }
   },
   "outputs": [
    {
     "output_type": "display_data",
     "data": {
      "text/html": [
       "<div>\n",
       "<style scoped>\n",
       "    .dataframe tbody tr th:only-of-type {\n",
       "        vertical-align: middle;\n",
       "    }\n",
       "\n",
       "    .dataframe tbody tr th {\n",
       "        vertical-align: top;\n",
       "    }\n",
       "\n",
       "    .dataframe thead th {\n",
       "        text-align: right;\n",
       "    }\n",
       "</style>\n",
       "<table border=\"1\" class=\"dataframe\">\n",
       "  <thead>\n",
       "    <tr style=\"text-align: right;\">\n",
       "      <th></th>\n",
       "      <th>_c0</th>\n",
       "    </tr>\n",
       "  </thead>\n",
       "  <tbody>\n",
       "    <tr>\n",
       "      <th>0</th>\n",
       "      <td>PK\u0003\u0004\u0014\u0000\u0000\u0000\u0000\u0000\u0000\u0000\u0000\u0000�]Nd�\u0002\u0000\u0000�\u0002\u0000\u0000\u001A\u0000\u0000\u0000xl/_rels/workboo...</td>\n",
       "    </tr>\n",
       "    <tr>\n",
       "      <th>1</th>\n",
       "      <td>&lt;Relationships xmlns=\"http</td>\n",
       "    </tr>\n",
       "    <tr>\n",
       "      <th>2</th>\n",
       "      <td>&lt;a</td>\n",
       "    </tr>\n",
       "    <tr>\n",
       "      <th>3</th>\n",
       "      <td>\u0000\u0000\u0000xl/styles.xml&lt;?xml version=\"1.0\" encoding=\"...</td>\n",
       "    </tr>\n",
       "    <tr>\n",
       "      <th>4</th>\n",
       "      <td>&lt;styleSheet xmlns=\"http</td>\n",
       "    </tr>\n",
       "  </tbody>\n",
       "</table>\n",
       "</div>"
      ]
     },
     "metadata": {
      "application/vnd.databricks.v1+output": {
       "addedWidgets": {},
       "arguments": {},
       "data": "<div>\n<style scoped>\n    .dataframe tbody tr th:only-of-type {\n        vertical-align: middle;\n    }\n\n    .dataframe tbody tr th {\n        vertical-align: top;\n    }\n\n    .dataframe thead th {\n        text-align: right;\n    }\n</style>\n<table border=\"1\" class=\"dataframe\">\n  <thead>\n    <tr style=\"text-align: right;\">\n      <th></th>\n      <th>_c0</th>\n    </tr>\n  </thead>\n  <tbody>\n    <tr>\n      <th>0</th>\n      <td>PK\u0003\u0004\u0014\u0000\u0000\u0000\u0000\u0000\u0000\u0000\u0000\u0000�]Nd�\u0002\u0000\u0000�\u0002\u0000\u0000\u001A\u0000\u0000\u0000xl/_rels/workboo...</td>\n    </tr>\n    <tr>\n      <th>1</th>\n      <td>&lt;Relationships xmlns=\"http</td>\n    </tr>\n    <tr>\n      <th>2</th>\n      <td>&lt;a</td>\n    </tr>\n    <tr>\n      <th>3</th>\n      <td>\u0000\u0000\u0000xl/styles.xml&lt;?xml version=\"1.0\" encoding=\"...</td>\n    </tr>\n    <tr>\n      <th>4</th>\n      <td>&lt;styleSheet xmlns=\"http</td>\n    </tr>\n  </tbody>\n</table>\n</div>",
       "datasetInfos": [],
       "metadata": {},
       "removedWidgets": [],
       "textData": null,
       "type": "htmlSandbox"
      }
     },
     "output_type": "display_data"
    }
   ],
   "source": [
    "df_pandas = df_spark.toPandas()\n",
    "df_pandas.head()"
   ]
  }
 ],
 "metadata": {
  "application/vnd.databricks.v1+notebook": {
   "computePreferences": null,
   "dashboards": [],
   "environmentMetadata": {
    "base_environment": "",
    "client": "1"
   },
   "language": "python",
   "notebookMetadata": {
    "pythonIndentUnit": 4
   },
   "notebookName": "Untitled Notebook 2025-03-01 21:27:16",
   "widgets": {}
  }
 },
 "nbformat": 4,
 "nbformat_minor": 0
}
