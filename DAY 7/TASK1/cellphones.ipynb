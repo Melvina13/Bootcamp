{
 "cells": [
  {
   "cell_type": "code",
   "execution_count": 1,
   "metadata": {},
   "outputs": [
    {
     "name": "stdout",
     "output_type": "stream",
     "text": [
      "Requirement already satisfied: pandas in c:\\users\\melvin\\appdata\\local\\programs\\python\\python310\\lib\\site-packages (2.2.3)\n",
      "Collecting openpyxl\n",
      "  Downloading openpyxl-3.1.5-py2.py3-none-any.whl (250 kB)\n",
      "     ------------------------------------ 250.9/250.9 KB 342.3 kB/s eta 0:00:00\n",
      "Requirement already satisfied: tzdata>=2022.7 in c:\\users\\melvin\\appdata\\local\\programs\\python\\python310\\lib\\site-packages (from pandas) (2025.1)\n",
      "Requirement already satisfied: numpy>=1.22.4 in c:\\users\\melvin\\appdata\\local\\programs\\python\\python310\\lib\\site-packages (from pandas) (2.2.3)\n",
      "Requirement already satisfied: python-dateutil>=2.8.2 in c:\\users\\melvin\\appdata\\roaming\\python\\python310\\site-packages (from pandas) (2.9.0.post0)\n",
      "Requirement already satisfied: pytz>=2020.1 in c:\\users\\melvin\\appdata\\local\\programs\\python\\python310\\lib\\site-packages (from pandas) (2025.1)\n",
      "Collecting et-xmlfile\n",
      "  Downloading et_xmlfile-2.0.0-py3-none-any.whl (18 kB)\n",
      "Requirement already satisfied: six>=1.5 in c:\\users\\melvin\\appdata\\roaming\\python\\python310\\site-packages (from python-dateutil>=2.8.2->pandas) (1.17.0)\n",
      "Installing collected packages: et-xmlfile, openpyxl\n",
      "Successfully installed et-xmlfile-2.0.0 openpyxl-3.1.5\n",
      "Note: you may need to restart the kernel to use updated packages.\n"
     ]
    },
    {
     "name": "stderr",
     "output_type": "stream",
     "text": [
      "WARNING: You are using pip version 22.0.4; however, version 25.0.1 is available.\n",
      "You should consider upgrading via the 'c:\\Users\\melvin\\AppData\\Local\\Programs\\Python\\Python310\\python.exe -m pip install --upgrade pip' command.\n"
     ]
    }
   ],
   "source": [
    "pip install pandas openpyxl"
   ]
  },
  {
   "cell_type": "code",
   "execution_count": 2,
   "metadata": {},
   "outputs": [
    {
     "name": "stdout",
     "output_type": "stream",
     "text": [
      "       country  1960  1961  1962  1963  1964  1965  1966  1967  1968  ...  \\\n",
      "0        Aruba   0.0   NaN   NaN   NaN   NaN   0.0   NaN   NaN   NaN  ...   \n",
      "1  Afghanistan   0.0   NaN   NaN   NaN   NaN   0.0   NaN   NaN   NaN  ...   \n",
      "2       Angola   0.0   NaN   NaN   NaN   NaN   0.0   NaN   NaN   NaN  ...   \n",
      "3      Albania   0.0   NaN   NaN   NaN   NaN   0.0   NaN   NaN   NaN  ...   \n",
      "4      Andorra   0.0   NaN   NaN   NaN   NaN   0.0   NaN   NaN   NaN  ...   \n",
      "\n",
      "    2014   2015   2016   2017   2018   2019   2020   2021   2022   2023  \n",
      "0   140k   141k    NaN    NaN    NaN   141k   141k   141k    NaN    NaN  \n",
      "1  18.4M  19.7M  21.6M  23.9M    22M  22.6M  22.7M  22.7M  22.8M    23M  \n",
      "2  14.1M  13.9M    13M  13.3M  13.3M  14.8M  14.6M  15.3M  23.7M  25.7M  \n",
      "3  3.36M   3.4M  3.37M  3.63M  2.71M  2.63M  2.62M  2.64M  2.78M  2.61M  \n",
      "4  66.2k  71.3k  76.1k  80.3k  82.6k  87.9k  80.4k  93.8k   114k   126k  \n",
      "\n",
      "[5 rows x 65 columns]\n"
     ]
    }
   ],
   "source": [
    "import pandas as pd\n",
    "file_path = \"cell_phones_total.xlsx\"\n",
    "df_cell_phones_total = pd.read_excel(file_path)\n",
    "print(df_cell_phones_total.head())"
   ]
  }
 ],
 "metadata": {
  "kernelspec": {
   "display_name": "Python 3",
   "language": "python",
   "name": "python3"
  },
  "language_info": {
   "codemirror_mode": {
    "name": "ipython",
    "version": 3
   },
   "file_extension": ".py",
   "mimetype": "text/x-python",
   "name": "python",
   "nbconvert_exporter": "python",
   "pygments_lexer": "ipython3",
   "version": "3.10.4"
  }
 },
 "nbformat": 4,
 "nbformat_minor": 2
}
