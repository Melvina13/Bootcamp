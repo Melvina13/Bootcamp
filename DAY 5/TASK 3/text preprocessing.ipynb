{
 "cells": [
  {
   "cell_type": "code",
   "execution_count": 1,
   "metadata": {},
   "outputs": [
    {
     "name": "stdout",
     "output_type": "stream",
     "text": [
      "Feature Names (CountVectorizer): ['ai' 'and' 'are' 'chatgpt' 'countvectorizer' 'extraction' 'feature'\n",
      " 'first' 'for' 'is' 'language' 'model' 'natural' 'powerful' 'processing'\n",
      " 'step' 'text' 'tfidfvectorizer' 'the' 'towards' 'training' 'useful'\n",
      " 'vectorization']\n",
      "Count Vectors:\n",
      " [[1 0 0 1 0 0 0 0 1 1 1 1 1 1 1 0 0 0 0 0 0 0 0]\n",
      " [1 0 0 0 0 0 0 1 0 1 0 0 0 0 0 1 1 0 1 1 1 0 1]\n",
      " [0 1 1 0 1 1 1 0 1 0 0 0 0 0 0 0 1 1 0 0 0 1 0]]\n",
      "\n",
      "Feature Names (TfidfVectorizer): ['ai' 'and' 'are' 'chatgpt' 'countvectorizer' 'extraction' 'feature'\n",
      " 'first' 'for' 'is' 'language' 'model' 'natural' 'powerful' 'processing'\n",
      " 'step' 'text' 'tfidfvectorizer' 'the' 'towards' 'training' 'useful'\n",
      " 'vectorization']\n",
      "TF-IDF Vectors:\n",
      " [[0.27345018 0.         0.         0.35955412 0.         0.\n",
      "  0.         0.         0.27345018 0.27345018 0.35955412 0.35955412\n",
      "  0.35955412 0.35955412 0.35955412 0.         0.         0.\n",
      "  0.         0.         0.         0.         0.        ]\n",
      " [0.27345018 0.         0.         0.         0.         0.\n",
      "  0.         0.35955412 0.         0.27345018 0.         0.\n",
      "  0.         0.         0.         0.35955412 0.27345018 0.\n",
      "  0.35955412 0.35955412 0.35955412 0.         0.35955412]\n",
      " [0.         0.35013871 0.35013871 0.         0.35013871 0.35013871\n",
      "  0.35013871 0.         0.26628951 0.         0.         0.\n",
      "  0.         0.         0.         0.         0.26628951 0.35013871\n",
      "  0.         0.         0.         0.35013871 0.        ]]\n"
     ]
    }
   ],
   "source": [
    "from sklearn.feature_extraction.text import CountVectorizer, TfidfVectorizer\n",
    "documents = [\n",
    "    \"ChatGPT is a powerful AI model for natural language processing.\",\n",
    "    \"Text vectorization is the first step towards AI training.\",\n",
    "    \"CountVectorizer and TfidfVectorizer are useful for text feature extraction.\"\n",
    "]\n",
    "count_vectorizer = CountVectorizer()\n",
    "count_vectors = count_vectorizer.fit_transform(documents)\n",
    "print(\"Feature Names (CountVectorizer):\", count_vectorizer.get_feature_names_out())\n",
    "print(\"Count Vectors:\\n\", count_vectors.toarray())\n",
    "tfidf_vectorizer = TfidfVectorizer()\n",
    "tfidf_vectors = tfidf_vectorizer.fit_transform(documents)\n",
    "print(\"\\nFeature Names (TfidfVectorizer):\", tfidf_vectorizer.get_feature_names_out())\n",
    "print(\"TF-IDF Vectors:\\n\", tfidf_vectors.toarray())\n",
    "\n"
   ]
  }
 ],
 "metadata": {
  "kernelspec": {
   "display_name": "Python 3",
   "language": "python",
   "name": "python3"
  },
  "language_info": {
   "codemirror_mode": {
    "name": "ipython",
    "version": 3
   },
   "file_extension": ".py",
   "mimetype": "text/x-python",
   "name": "python",
   "nbconvert_exporter": "python",
   "pygments_lexer": "ipython3",
   "version": "3.10.4"
  }
 },
 "nbformat": 4,
 "nbformat_minor": 2
}
