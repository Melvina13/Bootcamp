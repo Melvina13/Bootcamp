{
 "cells": [
  {
   "cell_type": "code",
   "execution_count": 1,
   "metadata": {},
   "outputs": [
    {
     "name": "stdout",
     "output_type": "stream",
     "text": [
      "           Bowler       Batter    Ball Type Shot Type Speed (km/h) Runs Scored\n",
      "0  Jasprit Bumrah  Virat Kohli  length ball    single          140           0\n",
      "1  Mitchell Starc     Joe Root   short ball      four          145           0\n",
      "2     Rashid Khan  Steve Smith    tossed up       six           95           0\n",
      "3     Pat Cummins   Babar Azam       yorker    no run          148           0\n",
      "4     Trent Boult   Ben Stokes  good length       two          138           0\n"
     ]
    }
   ],
   "source": [
    "import re\n",
    "import pandas as pd\n",
    "\n",
    "# Sample cricket commentary data\n",
    "commentary_data = [\n",
    "    \"Jasprit Bumrah to Virat Kohli, length ball, driven for a single at 140 km/h\",\n",
    "    \"Mitchell Starc to Joe Root, short ball, pulled for four at 145 km/h\",\n",
    "    \"Rashid Khan to Steve Smith, tossed up, swept for six at 95 km/h\",\n",
    "    \"Pat Cummins to Babar Azam, yorker, defended, no run at 148 km/h\",\n",
    "    \"Trent Boult to Ben Stokes, good length, flicked for two at 138 km/h\"\n",
    "]\n",
    "# Initialize an empty list for storing extracted data\n",
    "extracted_data = []\n",
    "\n",
    "# Define regex patterns\n",
    "bowler_pattern = r\"^(\\w+\\s\\w+)\"  # First two words (Bowler Name)\n",
    "batter_pattern = r\"to\\s([\\w\\s]+),\"  # \"to <Batter Name>\"\n",
    "ball_type_pattern = r\",\\s([\\w\\s]+),\\s\"  # Ball type between commas\n",
    "shot_type_pattern = r\"(\\b(single|four|six|no run|two)\\b)\"  # Identifying runs\n",
    "speed_pattern = r\"(\\d+)\\s?km/h\"  # Speed in km/h\n",
    "runs_pattern = r\"(\\b\\d\\b)\"  # Runs scored\n",
    "# Extract data using regex\n",
    "for commentary in commentary_data:\n",
    "    bowler = re.search(bowler_pattern, commentary)\n",
    "    batter = re.search(batter_pattern, commentary)\n",
    "    ball_type = re.search(ball_type_pattern, commentary)\n",
    "    shot_type = re.search(shot_type_pattern, commentary)\n",
    "    speed = re.search(speed_pattern, commentary)\n",
    "    runs = re.search(runs_pattern, commentary)\n",
    "\n",
    "    extracted_data.append([\n",
    "        bowler.group(1) if bowler else None,\n",
    "        batter.group(1) if batter else None,\n",
    "        ball_type.group(1) if ball_type else None,\n",
    "        shot_type.group(1) if shot_type else None,\n",
    "        speed.group(1) if speed else None,\n",
    "        runs.group(1) if runs else \"0\"  # Default to 0 if no run was recorded\n",
    "    ])\n",
    "    # Create DataFrame\n",
    "df = pd.DataFrame(extracted_data, columns=[\"Bowler\", \"Batter\", \"Ball Type\", \"Shot Type\", \"Speed (km/h)\", \"Runs Scored\"])\n",
    "print(df)"
   ]
  }
 ],
 "metadata": {
  "kernelspec": {
   "display_name": "Python 3",
   "language": "python",
   "name": "python3"
  },
  "language_info": {
   "codemirror_mode": {
    "name": "ipython",
    "version": 3
   },
   "file_extension": ".py",
   "mimetype": "text/x-python",
   "name": "python",
   "nbconvert_exporter": "python",
   "pygments_lexer": "ipython3",
   "version": "3.10.4"
  }
 },
 "nbformat": 4,
 "nbformat_minor": 2
}
